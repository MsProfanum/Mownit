{
 "cells": [
  {
   "cell_type": "code",
   "execution_count": 2,
   "metadata": {},
   "outputs": [
    {
     "name": "stdout",
     "output_type": "stream",
     "text": [
      "float32: 0.33333334\n",
      "float 64: 0.3333333333333333\n",
      "float32 -> float64: 0.3333333432674408\n"
     ]
    }
   ],
   "source": [
    "import numpy as np\n",
    "\n",
    "print(\"float32: %s\" % np.float32(1/3))\n",
    "print(\"float 64: %s\" % np.float64(1/3))\n",
    "print(\"float32 -> float64: %s\" % np.float64(np.float32(1/3)))"
   ]
  },
  {
   "cell_type": "code",
   "execution_count": 15,
   "metadata": {},
   "outputs": [
    {
     "data": {
      "image/png": "[encoded data removed]",
      "text/plain": [
       "<Figure size 432x288 with 1 Axes>"
      ]
     },
     "metadata": {
      "needs_background": "light"
     },
     "output_type": "display_data"
    }
   ],
   "source": [
    "\n",
    "import numpy as np\n",
    "import matplotlib.pyplot as plt\n",
    "\n",
    "# Zakres 1.0 do 1000.0 z krokiem 1.0\n",
    "x = np.linspace(1, 1000, 1000)\n",
    "y = (lambda lam: np.nextafter(lam, lam+1) - lam)(x)\n",
    "\n",
    "plt.plot(x, y,',')\n",
    "plt.show()"
   ]
  },
  {
   "cell_type": "code",
   "execution_count": 16,
   "metadata": {},
   "outputs": [],
   "source": [
    "import struct\n",
    "\n",
    "def float_to_binary32(num):\n",
    "    return format(struct.unpack('!I', struct.pack('!f',num))[0], '032b')"
   ]
  },
  {
   "cell_type": "code",
   "execution_count": 24,
   "metadata": {},
   "outputs": [
    {
     "name": "stdout",
     "output_type": "stream",
     "text": [
      "00000000100000000000000000000000\n",
      "00000000010000000000000000000000\n"
     ]
    }
   ],
   "source": [
    "print(float_to_binary32(2**(-126)))\n",
    "print(float_to_binary32(2**(-127)))"
   ]
  }
 ],
 "metadata": {
  "kernelspec": {
   "display_name": "Python 3",
   "language": "python",
   "name": "python3"
  },
  "language_info": {
   "codemirror_mode": {
    "name": "ipython",
    "version": 3
   },
   "file_extension": ".py",
   "mimetype": "text/x-python",
   "name": "python",
   "nbconvert_exporter": "python",
   "pygments_lexer": "ipython3",
   "version": "3.7.1"
  }
 },
 "nbformat": 4,
 "nbformat_minor": 2
}
